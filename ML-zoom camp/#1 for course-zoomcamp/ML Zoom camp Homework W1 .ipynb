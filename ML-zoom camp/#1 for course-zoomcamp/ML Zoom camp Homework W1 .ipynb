{
 "cells": [
  {
   "cell_type": "code",
   "execution_count": 1,
   "id": "ec5c1054",
   "metadata": {},
   "outputs": [],
   "source": [
    "import numpy as np\n",
    "import pandas as pd"
   ]
  },
  {
   "cell_type": "code",
   "execution_count": 2,
   "id": "79bb5c4a",
   "metadata": {},
   "outputs": [
    {
     "data": {
      "text/plain": [
       "'1.23.2'"
      ]
     },
     "execution_count": 2,
     "metadata": {},
     "output_type": "execute_result"
    }
   ],
   "source": [
    "np.__version__"
   ]
  },
  {
   "cell_type": "code",
   "execution_count": 3,
   "id": "7817993b",
   "metadata": {},
   "outputs": [
    {
     "name": "stdout",
     "output_type": "stream",
     "text": [
      "Requirement already satisfied: wget in c:\\users\\gh611680\\anaconda3\\envs\\dsdigi\\lib\\site-packages (3.2)\n",
      "Note: you may need to restart the kernel to use updated packages.\n"
     ]
    }
   ],
   "source": [
    "pip install wget"
   ]
  },
  {
   "cell_type": "code",
   "execution_count": 4,
   "id": "aea93780",
   "metadata": {},
   "outputs": [
    {
     "data": {
      "text/html": [
       "<div>\n",
       "<style scoped>\n",
       "    .dataframe tbody tr th:only-of-type {\n",
       "        vertical-align: middle;\n",
       "    }\n",
       "\n",
       "    .dataframe tbody tr th {\n",
       "        vertical-align: top;\n",
       "    }\n",
       "\n",
       "    .dataframe thead th {\n",
       "        text-align: right;\n",
       "    }\n",
       "</style>\n",
       "<table border=\"1\" class=\"dataframe\">\n",
       "  <thead>\n",
       "    <tr style=\"text-align: right;\">\n",
       "      <th></th>\n",
       "      <th>longitude</th>\n",
       "      <th>latitude</th>\n",
       "      <th>housing_median_age</th>\n",
       "      <th>total_rooms</th>\n",
       "      <th>total_bedrooms</th>\n",
       "      <th>population</th>\n",
       "      <th>households</th>\n",
       "      <th>median_income</th>\n",
       "      <th>median_house_value</th>\n",
       "      <th>ocean_proximity</th>\n",
       "    </tr>\n",
       "  </thead>\n",
       "  <tbody>\n",
       "    <tr>\n",
       "      <th>0</th>\n",
       "      <td>-122.23</td>\n",
       "      <td>37.88</td>\n",
       "      <td>41.0</td>\n",
       "      <td>880.0</td>\n",
       "      <td>129.0</td>\n",
       "      <td>322.0</td>\n",
       "      <td>126.0</td>\n",
       "      <td>8.3252</td>\n",
       "      <td>452600.0</td>\n",
       "      <td>NEAR BAY</td>\n",
       "    </tr>\n",
       "    <tr>\n",
       "      <th>1</th>\n",
       "      <td>-122.22</td>\n",
       "      <td>37.86</td>\n",
       "      <td>21.0</td>\n",
       "      <td>7099.0</td>\n",
       "      <td>1106.0</td>\n",
       "      <td>2401.0</td>\n",
       "      <td>1138.0</td>\n",
       "      <td>8.3014</td>\n",
       "      <td>358500.0</td>\n",
       "      <td>NEAR BAY</td>\n",
       "    </tr>\n",
       "    <tr>\n",
       "      <th>2</th>\n",
       "      <td>-122.24</td>\n",
       "      <td>37.85</td>\n",
       "      <td>52.0</td>\n",
       "      <td>1467.0</td>\n",
       "      <td>190.0</td>\n",
       "      <td>496.0</td>\n",
       "      <td>177.0</td>\n",
       "      <td>7.2574</td>\n",
       "      <td>352100.0</td>\n",
       "      <td>NEAR BAY</td>\n",
       "    </tr>\n",
       "    <tr>\n",
       "      <th>3</th>\n",
       "      <td>-122.25</td>\n",
       "      <td>37.85</td>\n",
       "      <td>52.0</td>\n",
       "      <td>1274.0</td>\n",
       "      <td>235.0</td>\n",
       "      <td>558.0</td>\n",
       "      <td>219.0</td>\n",
       "      <td>5.6431</td>\n",
       "      <td>341300.0</td>\n",
       "      <td>NEAR BAY</td>\n",
       "    </tr>\n",
       "    <tr>\n",
       "      <th>4</th>\n",
       "      <td>-122.25</td>\n",
       "      <td>37.85</td>\n",
       "      <td>52.0</td>\n",
       "      <td>1627.0</td>\n",
       "      <td>280.0</td>\n",
       "      <td>565.0</td>\n",
       "      <td>259.0</td>\n",
       "      <td>3.8462</td>\n",
       "      <td>342200.0</td>\n",
       "      <td>NEAR BAY</td>\n",
       "    </tr>\n",
       "  </tbody>\n",
       "</table>\n",
       "</div>"
      ],
      "text/plain": [
       "   longitude  latitude  housing_median_age  total_rooms  total_bedrooms  \\\n",
       "0    -122.23     37.88                41.0        880.0           129.0   \n",
       "1    -122.22     37.86                21.0       7099.0          1106.0   \n",
       "2    -122.24     37.85                52.0       1467.0           190.0   \n",
       "3    -122.25     37.85                52.0       1274.0           235.0   \n",
       "4    -122.25     37.85                52.0       1627.0           280.0   \n",
       "\n",
       "   population  households  median_income  median_house_value ocean_proximity  \n",
       "0       322.0       126.0         8.3252            452600.0        NEAR BAY  \n",
       "1      2401.0      1138.0         8.3014            358500.0        NEAR BAY  \n",
       "2       496.0       177.0         7.2574            352100.0        NEAR BAY  \n",
       "3       558.0       219.0         5.6431            341300.0        NEAR BAY  \n",
       "4       565.0       259.0         3.8462            342200.0        NEAR BAY  "
      ]
     },
     "execution_count": 4,
     "metadata": {},
     "output_type": "execute_result"
    }
   ],
   "source": [
    "df = pd.read_csv('raw.githubusercontent.com_alexeygrigorev_datasets_master_housing.csv')\n",
    "df.head()"
   ]
  },
  {
   "cell_type": "code",
   "execution_count": 5,
   "id": "96ed517b",
   "metadata": {},
   "outputs": [],
   "source": [
    "df.columns = df.columns.str.lower().str.replace(' ','_')\n",
    "\n",
    "catergorical_columns = list(df.dtypes[df.dtypes == 'object'].index)\n",
    "for p in catergorical_columns:\n",
    "    df[p] = df[p].str.lower().str.replace(' ','_')"
   ]
  },
  {
   "cell_type": "code",
   "execution_count": 6,
   "id": "6477f973",
   "metadata": {},
   "outputs": [
    {
     "data": {
      "text/plain": [
       "10"
      ]
     },
     "execution_count": 6,
     "metadata": {},
     "output_type": "execute_result"
    }
   ],
   "source": [
    "df.columns.nunique()"
   ]
  },
  {
   "cell_type": "code",
   "execution_count": 7,
   "id": "13ca134a",
   "metadata": {
    "scrolled": true
   },
   "outputs": [
    {
     "name": "stdout",
     "output_type": "stream",
     "text": [
      "<class 'pandas.core.frame.DataFrame'>\n",
      "RangeIndex: 20640 entries, 0 to 20639\n",
      "Data columns (total 10 columns):\n",
      " #   Column              Non-Null Count  Dtype  \n",
      "---  ------              --------------  -----  \n",
      " 0   longitude           20640 non-null  float64\n",
      " 1   latitude            20640 non-null  float64\n",
      " 2   housing_median_age  20640 non-null  float64\n",
      " 3   total_rooms         20640 non-null  float64\n",
      " 4   total_bedrooms      20433 non-null  float64\n",
      " 5   population          20640 non-null  float64\n",
      " 6   households          20640 non-null  float64\n",
      " 7   median_income       20640 non-null  float64\n",
      " 8   median_house_value  20640 non-null  float64\n",
      " 9   ocean_proximity     20640 non-null  object \n",
      "dtypes: float64(9), object(1)\n",
      "memory usage: 1.6+ MB\n"
     ]
    }
   ],
   "source": [
    "df.info()"
   ]
  },
  {
   "cell_type": "code",
   "execution_count": 8,
   "id": "561f46c5",
   "metadata": {
    "scrolled": true
   },
   "outputs": [
    {
     "data": {
      "text/plain": [
       "longitude               0\n",
       "latitude                0\n",
       "housing_median_age      0\n",
       "total_rooms             0\n",
       "total_bedrooms        207\n",
       "population              0\n",
       "households              0\n",
       "median_income           0\n",
       "median_house_value      0\n",
       "ocean_proximity         0\n",
       "dtype: int64"
      ]
     },
     "execution_count": 8,
     "metadata": {},
     "output_type": "execute_result"
    }
   ],
   "source": [
    "df.isnull().sum()"
   ]
  },
  {
   "cell_type": "markdown",
   "id": "7a099ebe",
   "metadata": {},
   "source": [
    "## Question 4\n",
    "\n",
    "How many unique values does the ocean_proximity column have?"
   ]
  },
  {
   "cell_type": "code",
   "execution_count": 9,
   "id": "84c6a90c",
   "metadata": {},
   "outputs": [
    {
     "name": "stdout",
     "output_type": "stream",
     "text": [
      "The ocean_proximity column have: 5\n"
     ]
    }
   ],
   "source": [
    "X = df['ocean_proximity'].nunique()\n",
    "print(\"The ocean_proximity column have:\", X)"
   ]
  },
  {
   "cell_type": "markdown",
   "id": "9db11412",
   "metadata": {},
   "source": [
    "### Question 5\n",
    "\n",
    "What's the average value of the median_house_value for the houses located near the bay?"
   ]
  },
  {
   "cell_type": "code",
   "execution_count": 10,
   "id": "dfd42607",
   "metadata": {
    "scrolled": true
   },
   "outputs": [
    {
     "name": "stdout",
     "output_type": "stream",
     "text": [
      "Average Median House Value for Houses Near the Bay: 259212.31179039303\n"
     ]
    }
   ],
   "source": [
    "bay_area_houses = df[df['ocean_proximity'] == 'near_bay']\n",
    "average_median_house_value_near_bay = bay_area_houses['median_house_value'].mean()\n",
    "print(\"Average Median House Value for Houses Near the Bay:\", average_median_house_value_near_bay)"
   ]
  },
  {
   "cell_type": "markdown",
   "id": "532ed461",
   "metadata": {},
   "source": [
    "### Question 6\n",
    "\n",
    "Calculate the average of total_bedrooms column in the dataset.\n",
    "Use the fillna method to fill the missing values in total_bedrooms with the mean value from the previous step.\n",
    "Now, calculate the average of total_bedrooms again.\n",
    "Has it changed?"
   ]
  },
  {
   "cell_type": "code",
   "execution_count": 11,
   "id": "3958db50",
   "metadata": {},
   "outputs": [
    {
     "name": "stdout",
     "output_type": "stream",
     "text": [
      "Initial Average Total Bedrooms: 537.8705525375618\n",
      "Average Total Bedrooms After Filling Missing Values: 537.8705525375617\n",
      "The average has changed.\n"
     ]
    }
   ],
   "source": [
    "initial_average_total_bedrooms = df['total_bedrooms'].mean()\n",
    "print(\"Initial Average Total Bedrooms:\", initial_average_total_bedrooms)\n",
    "mean_total_bedrooms = df['total_bedrooms'].mean()\n",
    "df['total_bedrooms'].fillna(mean_total_bedrooms, inplace=True)\n",
    "average_total_bedrooms_after_fillna = df['total_bedrooms'].mean()\n",
    "print(\"Average Total Bedrooms After Filling Missing Values:\", average_total_bedrooms_after_fillna)\n",
    "\n",
    "if initial_average_total_bedrooms == average_total_bedrooms_after_fillna:\n",
    "    print(\"The average has not changed.\")\n",
    "else:\n",
    "    print(\"The average has changed.\")"
   ]
  },
  {
   "cell_type": "markdown",
   "id": "56aace9a",
   "metadata": {},
   "source": [
    "### Question 7\n",
    "\n",
    "\n",
    "Select all the options located on islands.\n",
    "Select only columns housing_median_age, total_rooms, total_bedrooms.\n",
    "Get the underlying NumPy array. Let's call it X.\n",
    "Compute matrix-matrix multiplication between the transpose of X and X. To get the transpose, use X.T. Let's call the result XTX.\n",
    "Compute the inverse of XTX.\n",
    "Create an array y with values [950, 1300, 800, 1000, 1300].\n",
    "Multiply the inverse of XTX with the transpose of X, and then multiply the result by y. Call the result w.\n",
    "What's the value of the last element of w?"
   ]
  },
  {
   "cell_type": "code",
   "execution_count": 12,
   "id": "e92b1393",
   "metadata": {},
   "outputs": [
    {
     "name": "stdout",
     "output_type": "stream",
     "text": [
      "What's the value of the last element of w: 23.123309612152052\n"
     ]
    }
   ],
   "source": [
    "island_df = df[df['ocean_proximity'] == 'island']\n",
    "island_df = island_df[['housing_median_age', 'total_rooms', 'total_bedrooms']]\n",
    "island_df = island_df.drop_duplicates()\n",
    "island_df\n",
    "\n",
    "\n",
    "X = island_df.to_numpy()\n",
    "XTX = X.T @ X\n",
    "XTX_inv = np.linalg.inv(XTX)\n",
    "XTX_inv\n",
    "\n",
    "\n",
    "y = np.array([950, 1300, 800, 1000, 1300])\n",
    "w = (XTX_inv @ X.T) @ y\n",
    "W=w[0]\n",
    "print(\"What's the value of the last element of w:\", W)"
   ]
  },
  {
   "cell_type": "code",
   "execution_count": null,
   "id": "65c2051c",
   "metadata": {},
   "outputs": [],
   "source": []
  },
  {
   "cell_type": "code",
   "execution_count": null,
   "id": "47e55e7e",
   "metadata": {},
   "outputs": [],
   "source": []
  },
  {
   "cell_type": "code",
   "execution_count": null,
   "id": "d5544972",
   "metadata": {},
   "outputs": [],
   "source": []
  }
 ],
 "metadata": {
  "kernelspec": {
   "display_name": "Python 3 (ipykernel)",
   "language": "python",
   "name": "python3"
  },
  "language_info": {
   "codemirror_mode": {
    "name": "ipython",
    "version": 3
   },
   "file_extension": ".py",
   "mimetype": "text/x-python",
   "name": "python",
   "nbconvert_exporter": "python",
   "pygments_lexer": "ipython3",
   "version": "3.10.4"
  }
 },
 "nbformat": 4,
 "nbformat_minor": 5
}
